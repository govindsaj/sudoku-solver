{
 "cells": [
  {
   "cell_type": "code",
   "execution_count": 1,
   "metadata": {},
   "outputs": [],
   "source": [
    "import cv2\n",
    "import numpy as np\n",
    "import matplotlib.pyplot as plt\n",
    "import imutils\n",
    "from imutils.perspective import four_point_transform"
   ]
  },
  {
   "cell_type": "code",
   "execution_count": 2,
   "metadata": {},
   "outputs": [],
   "source": [
    "img = cv2.imread(\"sudokubig.jpg\")\n",
    "gray = cv2.cvtColor(img,cv2.COLOR_BGR2GRAY)"
   ]
  },
  {
   "cell_type": "code",
   "execution_count": 3,
   "metadata": {},
   "outputs": [],
   "source": [
    "def imshow(*imgs,title = \"No title\"):\n",
    "    for img in imgs:\n",
    "        cv2.imshow(title,img)\n",
    "        cv2.waitKey()\n",
    "    \n",
    "    cv2.destroyAllWindows()"
   ]
  },
  {
   "cell_type": "code",
   "execution_count": 4,
   "metadata": {},
   "outputs": [],
   "source": [
    "height,width,_ = img.shape"
   ]
  },
  {
   "cell_type": "code",
   "execution_count": 5,
   "metadata": {},
   "outputs": [],
   "source": [
    "blur = cv2.GaussianBlur(gray,(5,5),0)\n"
   ]
  },
  {
   "cell_type": "code",
   "execution_count": 20,
   "metadata": {},
   "outputs": [],
   "source": [
    "imshow(img,gray,blur)"
   ]
  },
  {
   "cell_type": "code",
   "execution_count": 7,
   "metadata": {},
   "outputs": [],
   "source": [
    "adTh = cv2.adaptiveThreshold(blur,255,cv2.ADAPTIVE_THRESH_GAUSSIAN_C,cv2.THRESH_BINARY_INV,7,5)\n",
    "# adTh = cv2.erode(adTh,np.ones((3,3)))\n",
    "# imshow(adTh)\n",
    "# horz = cv2.Sobel(adTh,cv2.CV_8UC1,1,0,ksize = 5)\n",
    "# vert = cv2.Sobel(adTh,cv2.CV_8UC1,0,1,ksize = 5)\n",
    "# adTh = cv2.bitwise_or(horz,vert)\n",
    "# imshow(horz,vert,adTh)"
   ]
  },
  {
   "cell_type": "code",
   "execution_count": 8,
   "metadata": {},
   "outputs": [],
   "source": [
    "lines = cv2.HoughLinesP(adTh,1,np.pi/180,100,minLineLength = 100,maxLineGap=2)"
   ]
  },
  {
   "cell_type": "code",
   "execution_count": 9,
   "metadata": {},
   "outputs": [],
   "source": [
    "img_lines = adTh.copy()\n",
    "for x1,y1,x2,y2 in lines[:,0,:]:\n",
    "    cv2.line(img_lines,(x1,y1),(x2,y2),(255,255,255),2)\n",
    "\n",
    "imshow(img_lines)\n",
    "    "
   ]
  },
  {
   "cell_type": "code",
   "execution_count": 10,
   "metadata": {},
   "outputs": [],
   "source": [
    "cnts =cv2.findContours(img_lines,cv2.RETR_LIST,cv2.CHAIN_APPROX_SIMPLE)"
   ]
  },
  {
   "cell_type": "code",
   "execution_count": 11,
   "metadata": {},
   "outputs": [],
   "source": [
    "cnts = imutils.grab_contours(cnts)"
   ]
  },
  {
   "cell_type": "code",
   "execution_count": 12,
   "metadata": {},
   "outputs": [],
   "source": [
    "cnts = sorted(cnts,key =cv2.contourArea,reverse=True)[:5]"
   ]
  },
  {
   "cell_type": "code",
   "execution_count": 13,
   "metadata": {},
   "outputs": [
    {
     "name": "stdout",
     "output_type": "stream",
     "text": [
      "5\n"
     ]
    }
   ],
   "source": [
    "cn_img = img.copy()\n",
    "imshow(cn_img)\n",
    "final_im = img\n",
    "grid_digits = ['0']*81\n",
    "rois=[]\n",
    "print(len(cnts))"
   ]
  },
  {
   "cell_type": "code",
   "execution_count": 23,
   "metadata": {},
   "outputs": [
    {
     "ename": "NameError",
     "evalue": "name 'solve' is not defined",
     "output_type": "error",
     "traceback": [
      "\u001b[0;31m---------------------------------------------------------------------------\u001b[0m",
      "\u001b[0;31mNameError\u001b[0m                                 Traceback (most recent call last)",
      "\u001b[0;32m<ipython-input-23-7a35f65da67e>\u001b[0m in \u001b[0;36m<module>\u001b[0;34m\u001b[0m\n\u001b[1;32m    138\u001b[0m \u001b[0;34m\u001b[0m\u001b[0m\n\u001b[1;32m    139\u001b[0m                     \u001b[0;32mif\u001b[0m \u001b[0mlen\u001b[0m\u001b[0;34m(\u001b[0m\u001b[0mgrid_digits\u001b[0m\u001b[0;34m)\u001b[0m \u001b[0;34m==\u001b[0m \u001b[0;36m81\u001b[0m\u001b[0;34m:\u001b[0m\u001b[0;34m\u001b[0m\u001b[0;34m\u001b[0m\u001b[0m\n\u001b[0;32m--> 140\u001b[0;31m                         \u001b[0msolved\u001b[0m \u001b[0;34m=\u001b[0m \u001b[0;34m(\u001b[0m\u001b[0msolve\u001b[0m\u001b[0;34m(\u001b[0m\u001b[0mgrid_digits\u001b[0m\u001b[0;34m)\u001b[0m\u001b[0;34m)\u001b[0m\u001b[0;34m\u001b[0m\u001b[0;34m\u001b[0m\u001b[0m\n\u001b[0m\u001b[1;32m    141\u001b[0m \u001b[0;34m\u001b[0m\u001b[0m\n\u001b[1;32m    142\u001b[0m                         \u001b[0;32mif\u001b[0m \u001b[0msolved\u001b[0m \u001b[0;34m!=\u001b[0m \u001b[0;32mFalse\u001b[0m\u001b[0;34m:\u001b[0m\u001b[0;34m\u001b[0m\u001b[0;34m\u001b[0m\u001b[0m\n",
      "\u001b[0;31mNameError\u001b[0m: name 'solve' is not defined"
     ]
    }
   ],
   "source": [
    "for (i,c) in enumerate(cnts):\n",
    "    peri = cv2.arcLength(c,True)\n",
    "    approx = cv2.approxPolyDP(c,0.02*peri,True)\n",
    "#     print(approx)\n",
    "    if len(approx) == 4:\n",
    "        (x,y,w,h) = cv2.boundingRect(approx)\n",
    "        ar = w/float(h)\n",
    "#         if w * h < 500:\n",
    "#             continue\n",
    "        \n",
    "        if ar >= 1.2 or ar <=0.8:\n",
    "            continue\n",
    "        \n",
    "        mainCnt = approx\n",
    "        full_coords = mainCnt.reshape(4,2)\n",
    "        \n",
    "        cv2.drawContours(cn_img,[mainCnt],-1,(0,0,0),-1)\n",
    "        \n",
    "        sudoku = four_point_transform(img_lines,mainCnt.reshape(4,2))\n",
    "#         imshow(sudoku)\n",
    "        sudoku_clr = four_point_transform(img,mainCnt.reshape(4,2))\n",
    "        \n",
    "        sud_c = sudoku.copy()\n",
    "        \n",
    "        horizontal = np.copy(sud_c)\n",
    "        vertical = np.copy(sud_c)\n",
    "        \n",
    "        cols = horizontal.shape[1]\n",
    "        horizontal_size = cols //10\n",
    "        horizontal_structure = cv2.getStructuringElement(cv2.MORPH_RECT,(horizontal_size,1))\n",
    "        horizontal = cv2.erode(horizontal,horizontal_structure)\n",
    "        horizontal = cv2.dilate(horizontal,horizontal_structure)\n",
    "        \n",
    "        rows = vertical.shape[0]\n",
    "        vertical_size = rows//10\n",
    "        vertical_structure = cv2.getStructuringElement(cv2.MORPH_RECT,(1,vertical_size))\n",
    "        vertical = cv2.erode(vertical,vertical_structure)\n",
    "        vertical = cv2.dilate(vertical,vertical_structure)\n",
    "        \n",
    "        grid = cv2.bitwise_or(horizontal,vertical)\n",
    "        kernel = cv2.getStructuringElement(cv2.MORPH_ELLIPSE,(3,3))\n",
    "        grid = cv2.dilate(grid,kernel)\n",
    "        \n",
    "        grid = cv2.bitwise_and(grid,sudoku)\n",
    "        \n",
    "        num = cv2.bitwise_xor(sud_c,grid)\n",
    "#         imshow(sud_c)\n",
    "        imshow(vertical,horizontal,num)\n",
    "        \n",
    "        if (full_coords[0][0])**2+(full_coords[0][1])**2 < (full_coords[1][0])**2+(full_coords[1][1])**2:\n",
    "                sud_coords = np.array([[0, 0], [0, num.shape[0]], [num.shape[1], num.shape[0]], [num.shape[1], 0]])\n",
    "        else:\n",
    "                sud_coords = np.array([[num.shape[1], 0], [0, 0], [0, num.shape[0]], [num.shape[1], num.shape[0]]])\n",
    "        \n",
    "#         k = img.copy()\n",
    "#         k = cv2.drawContours(k,[full_coords],-1,(0,255,0))\n",
    "#         print(full_coords)\n",
    "#         for j in full_coords:\n",
    "# #             print(*j)\n",
    "#             t=tuple(j)\n",
    "#             cv2.circle(k,tuple(j),3,(255,0,0),-1)\n",
    "#             cv2.putText(k,str(t[0])+ \",\"+str(t[1]),t,cv2.FONT_HERSHEY_COMPLEX_SMALL,1,(0,0,255))\n",
    "#         imshow(k)\n",
    "        \n",
    "        \n",
    "        num_r =  num.shape[0]\n",
    "        num_c = num.shape[1]\n",
    "        num_side = min(num_r,num_c)\n",
    "        \n",
    "        windowsize_r= (num_r // 9) - 1\n",
    "        windowsize_c = (num_c // 9)- 1\n",
    "        \n",
    "        window_area = windowsize_c * windowsize_r\n",
    "        \n",
    "        smallesst_prop_area = window_area // 16\n",
    "        \n",
    "        buffer_r = windowsize_r // 9\n",
    "        buffer_c = windowsize_c //9\n",
    "        \n",
    "        i = -1\n",
    "        \n",
    "        for r in range(0,num.shape[0] - windowsize_r,windowsize_r):\n",
    "            for c in range(0,num.shape[1] - windowsize_c,windowsize_c):\n",
    "                \n",
    "                rois.append([r,r+windowsize_r,c,c+windowsize_c])\n",
    "                \n",
    "                i+=1\n",
    "                \n",
    "                window = num[r+buffer_r : r+windowsize_r - buffer_r,c+buffer_c:c+windowsize_c - buffer_c]\n",
    "                \n",
    "                proposals = cv2.findContours(window,cv2.RETR_LIST,cv2.CHAIN_APPROX_SIMPLE)\n",
    "\n",
    "                proposals = imutils.grab_contours(proposals)\n",
    "                \n",
    "                if len(proposals) > 0:\n",
    "                    \n",
    "                    digit = sorted(proposals,key = cv2.contourArea,reverse= True)[0]\n",
    "                    perimeter = cv2.arcLength(digit,True)\n",
    "                    \n",
    "                    approx_shape = cv2.approxPolyDP(digit,0.02*perimeter,True)\n",
    "                    bound_rect = cv2.boundingRect(approx_shape)\n",
    "                    \n",
    "                    rect_area = bound_rect[2]*bound_rect[3]\n",
    "                    \n",
    "                    if rect_area < smallesst_prop_area:\n",
    "                        continue\n",
    "                    \n",
    "                    \n",
    "                    x,y,w,h = bound_rect\n",
    "                    \n",
    "                    s = 2 * (max(w,h)//2)\n",
    "                    cv2.rectangle(sudoku_clr,(c+x+buffer_c ,r+y+buffer_r),(c+x+w+buffer_c,r+y+h+buffer_r),(0,255,0),1)\n",
    "        \n",
    "                    r_start =max(r+y+(h//2) - (s//2) - (2*buffer_r),0)\n",
    "    \n",
    "                    r_end = min(r+y+(h//2)+(s//2)+(3*buffer_r) , num_r)\n",
    "        \n",
    "                    c_start = max(c+x+(w//2) - (s//2) -(2*buffer_c),0)\n",
    "            \n",
    "                    c_end = min(c+x+(w//2) + (s//2) + (3*buffer_c),num_c)\n",
    "                    \n",
    "                    prop = num[r_start:r_end,c_start:c_end]\n",
    "#                     imshow(prop)\n",
    "                    try :\n",
    "                        prop = cv2.resize(prop,(28,28),cv2.INTER_AREA)\n",
    "                        prop = np.atleast_3d(prop)\n",
    "                        \n",
    "                        prop = np.expand_dims(prop,axis=0)\n",
    "                        \n",
    "                        pred = model.predict(prop).argmax(axis=1)\n",
    "                        \n",
    "                        try:\n",
    "                            grid_digits[i] = str(int(pred[0]+1))\n",
    "                        except:\n",
    "                            pass\n",
    "                    except:\n",
    "                        pass\n",
    "                    \n",
    "                    if len(grid_digits) == 81:\n",
    "                        solved = (solve(grid_digits))\n",
    "                        \n",
    "                        if solved != False:\n",
    "                            solved = list(solved.values())\n",
    "                            \n",
    "                            for e in range(81):\n",
    "                                if grid_digits[e] != '0':\n",
    "                                    continue\n",
    "                                \n",
    "                                sudoku_clr = cv2.putText(sudoku_clr,solved[e],(rois[e][2] + rois[e][3])//2 ,cv2.FONT_HERSHEY_COMPLEX,1,(0,0,255),thickness = 2)\n",
    "                                                         \n",
    "                                h,mask = cv2.findHomography(sud_coords,full_cords)\n",
    "                                im_out = cv2.warpPerspective(sudoku_clr,h,(width,height)) \n",
    "                                \n",
    "                                final_img = im_out+ cn_img\n",
    "    break\n",
    "\n",
    "cv2.imshow(final_img)\n",
    "cv2.destroyAllWindows()                                                         \n",
    "                    \n",
    "                    \n",
    "        "
   ]
  },
  {
   "cell_type": "code",
   "execution_count": null,
   "metadata": {},
   "outputs": [],
   "source": [
    "\n",
    "\n",
    "\n",
    "\n",
    "\n",
    "\n",
    "\n",
    "\n",
    "\n",
    "\n",
    "\n",
    "\n",
    "\n",
    "\n",
    "\n",
    "\n",
    "\n",
    "\n",
    "\n",
    "\n",
    "\n",
    "\n",
    "\n",
    "\n",
    "\n",
    "\n",
    "\n",
    "\n",
    "\n",
    "\n",
    "\n",
    "\n",
    "\n"
   ]
  },
  {
   "cell_type": "code",
   "execution_count": null,
   "metadata": {},
   "outputs": [],
   "source": []
  },
  {
   "cell_type": "code",
   "execution_count": null,
   "metadata": {},
   "outputs": [],
   "source": []
  },
  {
   "cell_type": "code",
   "execution_count": null,
   "metadata": {},
   "outputs": [],
   "source": []
  },
  {
   "cell_type": "code",
   "execution_count": 150,
   "metadata": {},
   "outputs": [],
   "source": []
  },
  {
   "cell_type": "code",
   "execution_count": null,
   "metadata": {},
   "outputs": [],
   "source": []
  }
 ],
 "metadata": {
  "kernelspec": {
   "display_name": "Python [conda env:tf-gpu]",
   "language": "python",
   "name": "conda-env-tf-gpu-py"
  },
  "language_info": {
   "codemirror_mode": {
    "name": "ipython",
    "version": 3
   },
   "file_extension": ".py",
   "mimetype": "text/x-python",
   "name": "python",
   "nbconvert_exporter": "python",
   "pygments_lexer": "ipython3",
   "version": "3.6.10"
  }
 },
 "nbformat": 4,
 "nbformat_minor": 4
}
